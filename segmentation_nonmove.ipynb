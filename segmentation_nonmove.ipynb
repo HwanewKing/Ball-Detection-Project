{
  "cells": [
    {
      "cell_type": "code",
      "execution_count": null,
      "metadata": {
        "id": "zvBGbgKzDvmf"
      },
      "outputs": [],
      "source": [
        "import cv2\n",
        "import numpy as np\n",
        "from google.colab.patches import cv2_imshow\n",
        "\n",
        "\n",
        "\n",
        "# 비디오 캡처\n",
        "cap = cv2.VideoCapture('/content/drive/MyDrive/soccer/model_video.mp4')\n",
        "\n",
        "# 비디오 저장을 위한 설정\n",
        "fourcc = cv2.VideoWriter_fourcc(*'mp4v')\n",
        "out = cv2.VideoWriter('/content/drive/MyDrive/soccer/sample.mp4', fourcc, 30.0, (int(cap.get(3)), int(cap.get(4))))\n",
        "\n",
        "# 배경 제거기 생성 (KNN 사용)\n",
        "fgbg = cv2.createBackgroundSubtractorKNN()\n",
        "\n",
        "# 커널 설정\n",
        "kernel = cv2.getStructuringElement(cv2.MORPH_ELLIPSE, (5, 5))\n",
        "\n",
        "while True:\n",
        "    ret, frame = cap.read()\n",
        "    if not ret:\n",
        "        break\n",
        "\n",
        "    # 배경 차분 적용\n",
        "    fgmask = fgbg.apply(frame)\n",
        "\n",
        "    # 마스크 후처리 (노이즈 제거 및 객체 내부 채우기)\n",
        "    fgmask = cv2.morphologyEx(fgmask, cv2.MORPH_OPEN, kernel)\n",
        "    fgmask = cv2.morphologyEx(fgmask, cv2.MORPH_CLOSE, kernel)\n",
        "\n",
        "    # 객체만 추출\n",
        "    obj = cv2.bitwise_and(frame, frame, mask=fgmask)\n",
        "\n",
        "    # 결과 프레임을 파일로 저장\n",
        "    out.write(obj)\n",
        "\n",
        "    # 결과 보여주기\n",
        "    cv2_imshow(obj)\n",
        "\n",
        "    if cv2.waitKey(30) & 0xFF == ord('q'):\n",
        "        break\n",
        "\n",
        "cap.release()\n",
        "out.release()\n",
        "cv2.destroyAllWindows()\n",
        "\n"
      ]
    }
  ],
  "metadata": {
    "accelerator": "GPU",
    "colab": {
      "gpuType": "T4",
      "provenance": [],
      "mount_file_id": "1YAxWi2X5RVMcnjxHINbonScp65NLoyG_",
      "authorship_tag": "ABX9TyMNg9Q/DA1ZkmmIooupJ+Jt"
    },
    "kernelspec": {
      "display_name": "Python 3",
      "name": "python3"
    },
    "language_info": {
      "name": "python"
    }
  },
  "nbformat": 4,
  "nbformat_minor": 0
}