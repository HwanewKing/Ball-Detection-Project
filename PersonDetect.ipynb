{
  "nbformat": 4,
  "nbformat_minor": 0,
  "metadata": {
    "colab": {
      "provenance": [],
      "gpuType": "T4",
      "mount_file_id": "1LIJ8-Rlv1rbzARtlpy45SUgOVbemf2ya",
      "authorship_tag": "ABX9TyN2IlqHH98BS9bX42BnRIB4"
    },
    "kernelspec": {
      "name": "python3",
      "display_name": "Python 3"
    },
    "language_info": {
      "name": "python"
    },
    "accelerator": "GPU"
  },
  "cells": [
    {
      "cell_type": "code",
      "source": [
        "!git clone https://github.com/WongKinYiu/yolov7.git\n",
        "%cd yolov7\n",
        "!pip install -r requirements.txt\n"
      ],
      "metadata": {
        "id": "wTWj0wNefZ7a"
      },
      "execution_count": null,
      "outputs": []
    },
    {
      "cell_type": "code",
      "source": [
        "# 모델 다운로드\n",
        "!wget https://github.com/WongKinYiu/yolov7/releases/download/v0.1/yolov7.pt\n"
      ],
      "metadata": {
        "id": "-B7jU2FojIsx"
      },
      "execution_count": null,
      "outputs": []
    },
    {
      "cell_type": "code",
      "source": [
        "!python detect.py --weights yolov7.pt --source /content/drive/MyDrive/soccer/model_video.mp4 --classes 0"
      ],
      "metadata": {
        "id": "VQ-zLZbPkKVX"
      },
      "execution_count": null,
      "outputs": []
    }
  ]
}