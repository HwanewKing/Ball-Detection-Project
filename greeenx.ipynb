{
  "cells": [
    {
      "cell_type": "code",
      "execution_count": null,
      "metadata": {
        "id": "RCFCqljWu_o4"
      },
      "outputs": [],
      "source": [
        "!pip install opencv-python opencv-python-headless"
      ]
    },
    {
      "cell_type": "code",
      "execution_count": null,
      "metadata": {
        "colab": {
          "background_save": true
        },
        "id": "_4MjrwVFvGSv"
      },
      "outputs": [],
      "source": [
        "import cv2\n",
        "import numpy as np\n",
        "from google.colab.patches import cv2_imshow\n",
        "\n",
        "# 비디오 캡처 초기화\n",
        "cap = cv2.VideoCapture('/content/drive/MyDrive/soccer/sample.mp4')  # 비디오 파일 경로 지정\n",
        "\n",
        "# 비디오 저장을 위한 설정\n",
        "fourcc = cv2.VideoWriter_fourcc(*'mp4v')  # 코덱 설정\n",
        "out = cv2.VideoWriter('/content/drive/MyDrive/soccer/greenx.mp4', fourcc, 30.0, (int(cap.get(3)), int(cap.get(4))))\n",
        "\n",
        "# 초록색 범위 설정 (HSV 범위)\n",
        "lower_bound = np.array([30, 40, 40])    # HSV 최솟값\n",
        "upper_bound = np.array([100, 255, 255])  # HSV 최댓값\n",
        "\n",
        "\n",
        "while True:\n",
        "    ret, frame = cap.read()\n",
        "    if not ret:\n",
        "        break\n",
        "\n",
        "    # 프레임을 HSV로 변환\n",
        "    hsv_frame = cv2.cvtColor(frame, cv2.COLOR_BGR2HSV)\n",
        "\n",
        "    # 초록색 범위에 따른 마스크 생성\n",
        "    mask = cv2.inRange(hsv_frame, lower_bound, upper_bound)\n",
        "\n",
        "    # 초록색 영역을 검게 만들기\n",
        "    non_green = cv2.bitwise_and(frame, frame, mask=cv2.bitwise_not(mask))\n",
        "\n",
        "    # 노이즈 제거를 위한 모폴로지 연산\n",
        "    kernel = np.ones((5, 5), np.uint8)\n",
        "    mask = cv2.morphologyEx(mask, cv2.MORPH_CLOSE, kernel)\n",
        "\n",
        "    # 변환된 프레임을 비디오 파일에 작성\n",
        "    out.write(non_green)\n",
        "\n",
        "\n",
        "    # 결과 보여주기\n",
        "    cv2_imshow(non_green)\n",
        "\n",
        "    if cv2.waitKey(30) & 0xFF == ord('q'):\n",
        "        break\n",
        "\n",
        "cap.release()\n",
        "out.release()  # 비디오 파일 닫기\n",
        "cv2.destroyAllWindows()\n",
        "\n",
        "\n"
      ]
    }
  ],
  "metadata": {
    "accelerator": "GPU",
    "colab": {
      "gpuType": "T4",
      "provenance": [],
      "mount_file_id": "16o6Y8BE-DR6zqV00XWAQug7nEGJoi0Zv",
      "authorship_tag": "ABX9TyPPu+08HnQz/fhV59r1cx8+"
    },
    "kernelspec": {
      "display_name": "Python 3",
      "name": "python3"
    },
    "language_info": {
      "name": "python"
    }
  },
  "nbformat": 4,
  "nbformat_minor": 0
}